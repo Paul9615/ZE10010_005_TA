{
  "nbformat": 4,
  "nbformat_minor": 0,
  "metadata": {
    "colab": {
      "name": "6WEEK_HW_EX.ipynb",
      "provenance": [],
      "collapsed_sections": [],
      "authorship_tag": "ABX9TyNjkpl6onJ8LwJbx/ol0HY5",
      "include_colab_link": true
    },
    "kernelspec": {
      "name": "python3",
      "display_name": "Python 3"
    },
    "language_info": {
      "name": "python"
    }
  },
  "cells": [
    {
      "cell_type": "markdown",
      "metadata": {
        "id": "view-in-github",
        "colab_type": "text"
      },
      "source": [
        "<a href=\"https://colab.research.google.com/github/Ant9615/ZE10010_005_TA/blob/main/6WEEK_HW_EX.ipynb\" target=\"_parent\"><img src=\"https://colab.research.google.com/assets/colab-badge.svg\" alt=\"Open In Colab\"/></a>"
      ]
    },
    {
      "cell_type": "markdown",
      "source": [
        "# Exercises"
      ],
      "metadata": {
        "id": "9ZZirbrzciLm"
      }
    },
    {
      "cell_type": "code",
      "execution_count": null,
      "metadata": {
        "id": "4Fx5Yo9Mbk7y"
      },
      "outputs": [],
      "source": [
        "# 007\n",
        "num = int(input())\n",
        "\n",
        "for _ in range(num):\n",
        "     wro, word=input().split()\n",
        "     wro = int(wro)\n",
        "     word = list(word)\n",
        "     word.pop(wro-1)\n",
        "     word = ''.join(word)\n",
        "     print(word)"
      ]
    },
    {
      "cell_type": "code",
      "source": [
        "# 008\n",
        "n=int(input())\n",
        "score=list(map(int,input().split()))\n",
        "m=max(score)\n",
        "sum=0\n",
        "for i in score:\n",
        "    b=(i/m*100)\n",
        "    sum+=b"
      ],
      "metadata": {
        "id": "n9jX5QTycTVG"
      },
      "execution_count": null,
      "outputs": []
    },
    {
      "cell_type": "code",
      "source": [
        "# 009\n",
        "n = int(input())\n",
        "\n",
        "for i in range(n):\n",
        "    nums = list(map(int, input().split()))\n",
        "    avg = sum(nums[1:])/nums[0]  # 평균을 구함 (nums[0]: 학생수, nums[1:] 점수)\n",
        "    cnt = 0\n",
        "    for score in nums[1:]:\n",
        "        if score > avg:\n",
        "            cnt += 1  # 평균 이상인 학생 수\n",
        "    rate = cnt/nums[0] *100\n",
        "    print(f'{rate:.3f}%')"
      ],
      "metadata": {
        "id": "sSQPzcp1cdPA"
      },
      "execution_count": null,
      "outputs": []
    },
    {
      "cell_type": "markdown",
      "source": [
        "# HomeWork"
      ],
      "metadata": {
        "id": "T1676OIycmGC"
      }
    },
    {
      "cell_type": "code",
      "source": [
        "# 4\n",
        "def add(args):\n",
        "    sum1 = 0\n",
        "    for i in args:\n",
        "        sum1 += i\n",
        "    return sum1"
      ],
      "metadata": {
        "id": "ERghMLApcpAZ"
      },
      "execution_count": null,
      "outputs": []
    },
    {
      "cell_type": "code",
      "source": [
        "# 5\n",
        "def find_selfnum():\n",
        "    number = list(range(10001))\n",
        "    for i in range(10001):\n",
        "        a = str(i)\n",
        "        if len(a) == 1:\n",
        "            b = int(a)\n",
        "            pre_result = b + b\n",
        "        if len(a) == 2:\n",
        "            pre_result = int(a)+int(a[0])+int(a[1])\n",
        "        if len(a) == 3:\n",
        "            pre_result = int(a)+int(a[0])+int(a[1])+int(a[2])\n",
        "        if len(a) == 4:\n",
        "            pre_result = int(a)+int(a[0])+int(a[1])+int(a[2])+int(a[3])\n",
        "        if len(a) == 5:\n",
        "            pre_result = int(a)+int(a[0])+int(a[1])+int(a[2])+int(a[3]) + int(a[4])\n",
        "        if pre_result in number:\n",
        "            number.remove(pre_result)\n",
        "    for x in number:\n",
        "        print(x)\n",
        "       \n",
        "find_selfnum()"
      ],
      "metadata": {
        "id": "Bt9kIE4Kct3B"
      },
      "execution_count": null,
      "outputs": []
    }
  ]
}