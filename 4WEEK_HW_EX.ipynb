{
  "nbformat": 4,
  "nbformat_minor": 0,
  "metadata": {
    "colab": {
      "name": "4WEEK_HW_EX.ipynb",
      "provenance": [],
      "authorship_tag": "ABX9TyMU7mUBCWtm7j9wNb4gQ3j2",
      "include_colab_link": true
    },
    "kernelspec": {
      "name": "python3",
      "display_name": "Python 3"
    },
    "language_info": {
      "name": "python"
    }
  },
  "cells": [
    {
      "cell_type": "markdown",
      "metadata": {
        "id": "view-in-github",
        "colab_type": "text"
      },
      "source": [
        "<a href=\"https://colab.research.google.com/github/Ant9615/ZE10010_005_TA/blob/main/4WEEK_HW_EX.ipynb\" target=\"_parent\"><img src=\"https://colab.research.google.com/assets/colab-badge.svg\" alt=\"Open In Colab\"/></a>"
      ]
    },
    {
      "cell_type": "markdown",
      "source": [
        "# 실습\n",
        "## 003\n",
        "\n",
        "n이 주어졌을 때, 1부터 n까지 합을 구하는 프로그램을 작성하시오.\n",
        "\n",
        "### 입력\n",
        "\n",
        "첫째 줄에 n이 주어진다. (단 n은 정수이다.)\n",
        "\n",
        "### 출력 \n",
        "\n",
        "1부터 n까지 합을 출력한다."
      ],
      "metadata": {
        "id": "E2LEdVbEI76P"
      }
    },
    {
      "cell_type": "code",
      "execution_count": null,
      "metadata": {
        "id": "pK4JERn2IxVO"
      },
      "outputs": [],
      "source": [
        "n = int(input())\n",
        "s = 0\n",
        "for i in range(n+1):\n",
        "    s = s+i \n",
        "print(\"{}\".format(s))"
      ]
    },
    {
      "cell_type": "markdown",
      "source": [
        "## 004\n",
        "1에서부터 6까지의 눈을 가진 3개의 주사위를 던져서 다음과 같은 규칙에 따라 상금을 받는 게임이 있다. \n",
        "\n",
        "같은 눈이 3개가 나오면 10,000원+(같은 눈)×1,000원의 상금을 받게 된다. \n",
        "같은 눈이 2개만 나오는 경우에는 1,000원+(같은 눈)×100원의 상금을 받게 된다. \n",
        "모두 다른 눈이 나오는 경우에는 (그 중 가장 큰 눈)×100원의 상금을 받게 된다.  \n",
        "예를 들어, 3개의 눈 3, 3, 6이 주어지면 상금은 1,000+3×100으로 계산되어 1,300원을 받게 된다. 또 3개의 눈이 2, 2, 2로 주어지면 10,000+2×1,000 으로 계산되어 12,000원을 받게 된다. 3개의 눈이 6, 2, 5로 주어지면 그중 가장 큰 값이 6이므로 6×100으로 계산되어 600원을 상금으로 받게 된다.\n",
        "\n",
        "3개 주사위의 나온 눈이 주어질 때, 상금을 계산하는 프로그램을 작성 하시오.\n",
        "\n",
        "### 입력\n",
        "\n",
        "첫째 줄에 3개의 눈이 빈칸을 사이에 두고 각각 주어진다. \n",
        "\n",
        "### 출력\n",
        "\n",
        "첫째 줄에 게임의 상금을 출력 한다."
      ],
      "metadata": {
        "id": "Kgs4Uhu-JF78"
      }
    },
    {
      "cell_type": "code",
      "source": [
        "a,b,c = map(int, input().split())\n",
        "\n",
        "if a == b and b == c:\n",
        "    rew = 10000 + a * 1000\n",
        "    print(rew)\n",
        "\n",
        "elif a==b or b==c or a==c: \n",
        "    if a==b:\n",
        "        rew = 1000+a*100\n",
        "        print(rew)\n",
        "    elif b==c:\n",
        "        rew = 1000+b*100\n",
        "        print(rew)\n",
        "    else:\n",
        "        rew = 1000+c*100\n",
        "        print(rew)\n",
        "else:\n",
        "    rew = max(a,b,c) * 100\n",
        "    print(rew)"
      ],
      "metadata": {
        "id": "kpd4G_qrJM_p"
      },
      "execution_count": null,
      "outputs": []
    },
    {
      "cell_type": "markdown",
      "source": [
        "## 005\n",
        "두 정수 A와 B를 입력받은 다음, A+B를 출력하는 프로그램을 작성하시오.\n",
        "\n",
        "### 입력\n",
        " \n",
        "입력은 여러 개의 테스트 케이스로 이루어져 있다.\n",
        "\n",
        "각 테스트 케이스는 한 줄로 이루어져 있으며, 각 줄에 A와 B가 주어진다. (0 < A, B < 10)\n",
        "\n",
        "입력의 마지막에는 0 두 개가 들어온다.\n",
        "\n",
        "\n",
        "### 출력 \n",
        "\n",
        "각 테스트 케이스마다 A+B를 출력한다."
      ],
      "metadata": {
        "id": "i2jq7rwkJPVR"
      }
    },
    {
      "cell_type": "code",
      "source": [
        "while True:\n",
        "    a,b = map(int,input().split())\n",
        "    if a==0 and b==0:\n",
        "        break\n",
        "    else:\n",
        "        print(\"{}\".format(a+b))\n"
      ],
      "metadata": {
        "id": "VGW21EunJ79k"
      },
      "execution_count": null,
      "outputs": []
    },
    {
      "cell_type": "markdown",
      "source": [
        "## 006\n",
        "영어 대소문자와 공백으로 이루어진 문자열이 주어진다. 이 문자열에는 몇 개의 단어가 있을까? 이를 구하는 프로그램을 작성하시오. 단, 한 단어가 여러 번 등장하면 등장한 횟수만큼 모두 세어야 한다. \n",
        "\n",
        "단, if와 인덱싱을 사용하여 코드를 설계하시오.\n",
        "\n",
        "### 입력\n",
        "\n",
        "첫 줄에 영어 대소문자와 공백으로 이루어진 문자열이 주어진다. 이 문자열의 길이는 1,000,000을 넘지 않는다. 단어는 공백 한 개로 구분되며, 공백이 연속해서 나오는 경우는 없다. 또한 문자열은 공백으로 시작하거나 끝날 수 있다.\n",
        "\n",
        "### 출력 \n",
        "\n",
        "첫째 줄에 단어의 개수를 출력한다."
      ],
      "metadata": {
        "id": "EEEma5LlKFbo"
      }
    },
    {
      "cell_type": "code",
      "source": [
        "string = list(input())\n",
        "ans = 0\n",
        "s = False\n",
        "\n",
        "for k in range(len(string)):\n",
        "    if string[k] != ' ' and s == False:\n",
        "        ans += 1\n",
        "        s = True\n",
        "\n",
        "    if string[k] == ' ' and s == True:\n",
        "        s = False\n",
        "\n",
        "print(ans)"
      ],
      "metadata": {
        "id": "EJTMBzXrKEFY"
      },
      "execution_count": null,
      "outputs": []
    },
    {
      "cell_type": "markdown",
      "source": [
        "# 과제 \n",
        "## 3번 \n",
        "슈퍼 마리오 앞에 10개의 버섯이 일렬로 놓여져 있다. 이 버섯을 먹으면 점수를 받는다. 슈퍼 마리오는 버섯을 처음부터 나온 순서대로 집으려고 한다. 하지만, 모든 버섯을 집 을 필요는 없고 중간에 중단할 수 있다. 중간에 버섯을 먹는 것을 중단했다면, 그 이후에 나온 버섯은 모두 먹을 수 없다. 따라서 첫 버섯을 먹지 않았다면, 그 이후 버섯도 모두 먹을 수 없다. 마리오는 받은 점수의 합을 최대한 100에 가깝게 만들려고 한다. 버섯의 점수가 주어졌을 때, 마리오가 받는 점수를 출력하는 프로그램을 작성하고 소스코드(파일형식은 ‘3-학번.py’)를 제출하시오. \n",
        "\n",
        "### 입력 \n",
        "\n",
        "총 10개의 줄에 각각의 버섯의 점수가 주어진다. 이 값은 100보다 작거나 같은 양의 정 수이다. 버섯이 나온 순서대로 점수가 주어진다. \n",
        "\n",
        "#### 예시 \n",
        "\n",
        "10 \n",
        "\n",
        "20 \n",
        "\n",
        "30 \n",
        "\n",
        "40 \n",
        "\n",
        "50 \n",
        "\n",
        "60 \n",
        "\n",
        "70 \n",
        "\n",
        "80 \n",
        "\n",
        "90 \n",
        "\n",
        "100 \n",
        "\n",
        "\n",
        "\n",
        "### 출력 \n",
        "\n",
        "첫째 줄에 마리오가 받는 점수를 출력한다. 만약 100에 가까운 수가 2개라면 (예: 98, 102) 마리오는 큰 값을 선택한다. \n",
        "\n",
        "#### 예시\n",
        "\n",
        "100 \n",
        "\n",
        "출제의도: 주어진 조건을 통해 for와 if를 적절히 이용할 수 있는지"
      ],
      "metadata": {
        "id": "UgXIWvYVKQxX"
      }
    },
    {
      "cell_type": "code",
      "source": [
        "ans = 0 #변수 초기화 \n",
        "sco = 0\n",
        "for i in range(10): # 10번의 인풋 \n",
        "    sco+=int(input()) # 인풋 누적합\n",
        "    if 100-ans >= abs(100-sco):  # 절댓값 100-누적합이 100-ans 보다 보다 작으면 \n",
        "        ans = sco # ans 로 저장 -> 100-sco 보다 크거나 같을 때까지 반복 \n",
        "print(ans) # if문에 위반 되면 저장된 ans를 출력"
      ],
      "metadata": {
        "id": "5DtMi5WTKQQO"
      },
      "execution_count": null,
      "outputs": []
    },
    {
      "cell_type": "markdown",
      "source": [
        "## 4번\n",
        "\n",
        "n!은 정수 n에 대한 팩토리얼 수를 나타내는데, 이는 1부터 n까지의 모든 정수의 곱을 의미한다. 팩토리얼은 굉장히 빨리 커지기 때문에 13!는 대부분의 컴퓨터에서 32비트 정수형을, 70!은 대부분의 부동 소수점 변수의 범위를 넘어선다. 우리는 n!에 대하여 0 Programming Homework 6 이 아닌 최우측 수(the rightmost non-zero digit)를 찾으려고 한다. 예를 들어, 5! = 1 * 2 * 3 * 4 * 5 = 120 이므로 5!의 최우측 0이 아닌 수는 2이다. 마찬가지로 7! = 1 * 2 * 3 * 4 * 5 * 6 * 7 = 5040이며 7!의 0이 아닌 최우측 수는 4가 된다. 팩토리얼 수를 구하는 프로그램을 작성하고 소스코드(파일형식은 ‘4-학번.py’)를 제출하시오. \n",
        "\n",
        "\n",
        "\n",
        "### 입력 \n",
        "\n",
        "첫 줄에 테스트 케이스의 수 t ( 0 < t < 15)가 주어진다. 연속하여 t개의 줄에는 정수 n이 하나씩 주어진다. ( 0 < n < 1001). \n",
        "\n",
        "#### 예시 \n",
        "\n",
        "1\n",
        "\n",
        "5\n",
        "\n",
        "\n",
        "\n",
        "### 출력 \n",
        "\n",
        "n!의 최우측 0이 아닌 수(the rightmost non-zero digit)를 출력하시오. \n",
        "\n",
        "#### 예시 \n",
        "\n",
        "2 \n",
        "\n",
        "출제의도: 주어진 조건을 이용해 for와 제약을 이용한 조건 반복을 적절히 이용할 수 있는지"
      ],
      "metadata": {
        "id": "Y-rHGKSOKyvP"
      }
    },
    {
      "cell_type": "code",
      "source": [
        "t = int(input()) # 입력 변수\n",
        "for _ in range(t): #  반복 인덱스 상관없이 전체 반복 \n",
        "    n = int(input()) # 구할 팩토리얼 수 입력변수  \n",
        "    result = 1 # 결과값을 출력할 용도로 선언한 변수 팩토리얼에 0이 끼면 결과가 0이되니까 초기값 1\n",
        "    for i in range(1, n + 1): # 반복문은 0부터 n-1까지 반복되니까 n까지 반복하기 위해 1부터 n+1\n",
        "        result *= i # 누적곱셈(팩토리얼)\n",
        "        while result % 10 == 0: # 0이 아닌 수를 찾기 위해 각 반복마다 10을 나누고 나머지가 0인지 확인\n",
        "            result //= 10 # 나머지가 0이면 10을 나눈 몫을 구하고 result에 저장\n",
        "        result %= 1000 # 1000을 나눈 나머지를 result에 저장하고 다시 누적 곱셈\n",
        "    result %= 10 # 결과값을 다시 10을 나눈 몫으로 저장(0이 아닌 맨 우측 끝자리 수 출력하기 위함)\n",
        "    print(result) # n의 팩토리얼 0이 아닌 맨 우측 수 출력하고 다음 인풋으로 넘어감 "
      ],
      "metadata": {
        "id": "Egz3IEToKuw1"
      },
      "execution_count": null,
      "outputs": []
    },
    {
      "cell_type": "markdown",
      "source": [
        "## 5번\n",
        "팩토리얼5란, N!의 0이 아닌 뒤 5자리를 말한다. \n",
        "\n",
        "N이 주어졌을 때, 팩토리얼5를 구하는 프로그램을 작성프로그램을 작성하고 소스코드 (파일형식은 ‘5-학번.py’)를 제출하시오. \n",
        "\n",
        "\n",
        "\n",
        "### 입력 \n",
        "\n",
        "첫째 줄에 정수 N이 주어진다. N은 1,000,000보다 작거나 같다. 또, 9보다 크거나 같다. \n",
        "\n",
        "#### 예시 \n",
        "\n",
        "20 \n",
        "\n",
        "\n",
        "\n",
        "### 출력 \n",
        "\n",
        "첫째 줄에 N의 팩토리얼5를 계산한다. \n",
        "\n",
        "#### 예시 \n",
        "\n",
        "17664 \n",
        "\n",
        "출제의도: 4번의 심화 문제로 이전에 배운 type에서 캐스팅과 문자열 인덱싱을 이용하여 조건에 맞는 출력을 할 수 있는지"
      ],
      "metadata": {
        "id": "ferDxKgqK_RF"
      }
    },
    {
      "cell_type": "code",
      "source": [
        "n = int(input()) # 입력변수 \n",
        "f = 1 # 팩토리얼을 구하기 위해 초기값 1을 선언\n",
        "for i in range(1,n+1): # 팩토리얼을 구하기 위한 반복\n",
        "    f*=i # 누적곱셈(팩토리얼) \n",
        "    while True:  # 주어진 수 내 반복 \n",
        "        if str(f)[-1] == \"0\": # 구한 팩토리얼을 string으로 캐스팅했을 때 마지막 문자열이 0일때\n",
        "            f //= 10 # 10을 나눈 몫을 저장\n",
        "        else: \n",
        "            break # 아니면 while문 탈출\n",
        "    f%=100000000000000000 #while에서 탈출하면 큰수(팩토리얼 수가 클 수 있기 때문)를 나눠 나머지를 저장한다.\n",
        "print(str(f)[-5:]) # 마지막으로 결과값을 string으로 캐스팅하고 0이 아닌 맨 우측 5자리 숫자를 출력해준다."
      ],
      "metadata": {
        "id": "iVR91Q8JLUXj"
      },
      "execution_count": null,
      "outputs": []
    }
  ]
}