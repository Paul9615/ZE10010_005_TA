{
  "nbformat": 4,
  "nbformat_minor": 0,
  "metadata": {
    "colab": {
      "name": "5WEEK_HW_EX.ipynb",
      "provenance": [],
      "authorship_tag": "ABX9TyOuTMN225YRglQ0qtBGKEbH",
      "include_colab_link": true
    },
    "kernelspec": {
      "name": "python3",
      "display_name": "Python 3"
    },
    "language_info": {
      "name": "python"
    }
  },
  "cells": [
    {
      "cell_type": "markdown",
      "metadata": {
        "id": "view-in-github",
        "colab_type": "text"
      },
      "source": [
        "<a href=\"https://colab.research.google.com/github/Ant9615/ZE10010_005_TA/blob/main/5WEEK_HW_EX.ipynb\" target=\"_parent\"><img src=\"https://colab.research.google.com/assets/colab-badge.svg\" alt=\"Open In Colab\"/></a>"
      ]
    },
    {
      "cell_type": "markdown",
      "source": [
        "# 실습 \n",
        "## 007\n",
        "\n",
        "구경민은 보고서 작성할 때 항상 오타를 낸다. 경민이가 오타를 낸 문장과 오타를 낸 위치가 주어졌을 때, 오타를 지운 문자열을 출력하는 프로그램을 작성하시오.\n",
        "\n",
        "경민이는 오타를 반드시 1개만 낸다. \n",
        "\n",
        "### 입력\n",
        "\n",
        "첫째 줄에 테스트 케이스의 개수 T가 주어진다. 각 테스트 케이스는 한 줄로 구성되어 있다. 첫 숫자는 창영이가 오타를 낸 위치이고, 두 번째 문자열은 경민이가 친 문자열이다. 문자열의 가장 첫 문자는 1번째 문자이고, 문자열의 길이는 80을 넘지 않고, 대문자로만 이루어져 있다. 오타를 낸 위치는 문자열 길이보다 작거나 같다.\n",
        "\n",
        "#### 예제 입력 \n",
        "4\n",
        "\n",
        "4 MISSPELL\n",
        "\n",
        "1 PROGRAMMING\n",
        "\n",
        "7 CONTEST\n",
        "\n",
        "3 BALLOON\n",
        "\n",
        "\n",
        "### 출력 \n",
        "\n",
        "각 테스트 케이스에 대해 오타를 지운 문자열을 출력한다.\n",
        "\n",
        "#### 예제 출력 \n",
        "MISPELL\n",
        "\n",
        "ROGRAMMING\n",
        "\n",
        "CONTES\n",
        "\n",
        "BALOON"
      ],
      "metadata": {
        "id": "uG_AAmHZLtab"
      }
    },
    {
      "cell_type": "code",
      "execution_count": null,
      "metadata": {
        "id": "5rC6w1wNIiZ5"
      },
      "outputs": [],
      "source": [
        "num = int(input())\n",
        "\n",
        "for _ in range(num):\n",
        "     wro, word=input().split()\n",
        "     wro = int(wro)\n",
        "     word = list(word)\n",
        "     word.pop(wro-1)\n",
        "     word = ''.join(word)\n",
        "     print(word)"
      ]
    },
    {
      "cell_type": "markdown",
      "source": [
        "## 008\n",
        "학창시절에 성적표를 조작해본 적이 있는가? 사실 본인은 해본적이 없지만 친구가 그랬던 기억이 있다. 친구는 부모님께 걸리지 않을려고 기가 막힌 방법을 사용했는데 자기 점수 중 가장 잘 본 과목의 점수 M으로 모든 점수를 (점수/M)*100으로 계산하여 고쳤다! \n",
        "\n",
        "예를 들어, 제일 잘 본 과목의 점수(최댓값)가 80이고, 국어점수가 50이면 국어점수는 (50/80)*100이 되어 62.5점이 된다! \n",
        "\n",
        "물론 결국엔 다 걸리고 말았지만, 정말 신박한 방법이 아닌가?! \n",
        "\n",
        "친구의 성적을 설명한 방법대로 다시 계산했을 때, 새로운 평균을 구하는 python 코드를 작성해보자!\n",
        "\n",
        "### 입력\n",
        "첫째 줄에 시험 본 과목의 개수 N이 주어진다. 이 값은 1000보다 작거나 같다. 둘째 줄에 세준이의 현재 성적이 주어진다. 이 값은 100보다 작거나 같은 음이 아닌 정수이고, 적어도 하나의 값은 0보다 크다.\n",
        "\n",
        "#### 예제 입력1\n",
        "\n",
        "3\n",
        "\n",
        "40 80 60\n",
        "\n",
        "#### 예제 입력2 \n",
        "\n",
        "3\n",
        "\n",
        "10 20 30\n",
        "\n",
        "#### 예제 입력3 \n",
        "\n",
        "5\n",
        "\n",
        "1 2 4 8 16\n",
        "\n",
        "### 출력 \n",
        "첫째 줄에 새로운 평균을 출력하며, 결과의 소숫점은 셋째 자리에서 반올림하여 둘째자리까지 계산한다. \n",
        "\n",
        "#### 예제 출력1 \n",
        "\n",
        "75.0\n",
        "\n",
        "#### 예제 출력2 \n",
        "\n",
        "66.67\n",
        "\n",
        "#### 예제 출력3 \n",
        "\n",
        "38.75"
      ],
      "metadata": {
        "id": "52Xo9tVGMyou"
      }
    },
    {
      "cell_type": "code",
      "source": [
        "n=int(input())\n",
        "score=list(map(int,input().split()))\n",
        "m=max(score)\n",
        "sum=0\n",
        "for i in score:\n",
        "    b=(i/m*100)\n",
        "    sum+=b\n",
        "    \n",
        "print(f'{round((sum/n),2)}')"
      ],
      "metadata": {
        "id": "TqYty_AkNdDa"
      },
      "execution_count": null,
      "outputs": []
    },
    {
      "cell_type": "markdown",
      "source": [
        "## 009\n",
        "'에이 평균은 넘겠지,,,' 퀴즈나 시험을 치고 나면 다들 이런 생각이 들것이다. 하지만 슬프게도 항상 그 예상은 거의 다 빗나간다는 게 경험자로서 입장이다. 이제 여러분이 진짜인지 알아볼 차례다! \n",
        "\n",
        "### 입력\n",
        "\n",
        "첫째 줄에는 테스트 케이스의 개수 C가 주어진다.\n",
        "\n",
        "둘째 줄부터 각 테스트 케이스마다 학생의 수 N(1 ≤ N ≤ 1000, N은 정수)이 첫 수로 주어지고, 이어서 N명의 점수가 주어진다. \n",
        "\n",
        "점수는 0보다 크거나 같고, 100보다 작거나 같은 정수이다.\n",
        "\n",
        "#### 예제 입력 \n",
        "5\n",
        "\n",
        "5 50 50 70 80 100\n",
        "\n",
        "7 100 95 90 80 70 60 50\n",
        "\n",
        "3 70 90 80\n",
        "\n",
        "3 70 90 81\n",
        "\n",
        "9 100 99 98 97 96 95 94 93 91\n",
        "\n",
        "### 출력\n",
        "\n",
        "각 케이스마다 한 줄씩 평균을 넘는 학생들의 비율을 반올림하여 소수점 셋째 자리까지 출력한다.\n",
        "\n",
        "#### 예제 출력 \n",
        "40.000%\n",
        "\n",
        "57.143%\n",
        "\n",
        "33.333%\n",
        "\n",
        "66.667%\n",
        "\n",
        "55.556%\n"
      ],
      "metadata": {
        "id": "NVfZ0Bl6NgfE"
      }
    },
    {
      "cell_type": "code",
      "source": [
        "n = int(input())\n",
        "\n",
        "for i in range(n):\n",
        "    nums = list(map(int, input().split()))\n",
        "    avg = sum(nums[1:])/nums[0]  # 평균을 구함 (nums[0]: 학생수, nums[1:] 점수)\n",
        "    cnt = 0\n",
        "    for score in nums[1:]:\n",
        "        if score > avg:\n",
        "            cnt += 1  # 평균 이상인 학생 수\n",
        "    rate = cnt/nums[0] *100\n",
        "    print(f'{rate:.3f}%')"
      ],
      "metadata": {
        "id": "iW5Ey63HN5lR"
      },
      "execution_count": null,
      "outputs": []
    }
  ]
}