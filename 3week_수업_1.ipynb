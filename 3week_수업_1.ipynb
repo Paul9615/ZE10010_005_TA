{
  "nbformat": 4,
  "nbformat_minor": 0,
  "metadata": {
    "colab": {
      "name": "3week_수업_1.ipynb",
      "provenance": [],
      "collapsed_sections": [],
      "mount_file_id": "1o_iPp1fVcESbfnXIYwxoCqp1-ULeqosy",
      "authorship_tag": "ABX9TyMTi94Wz8LADKYuPXvf6SC6",
      "include_colab_link": true
    },
    "kernelspec": {
      "name": "python3",
      "display_name": "Python 3"
    },
    "language_info": {
      "name": "python"
    }
  },
  "cells": [
    {
      "cell_type": "markdown",
      "metadata": {
        "id": "view-in-github",
        "colab_type": "text"
      },
      "source": [
        "<a href=\"https://colab.research.google.com/github/Ant9615/ZE10010_005_TA/blob/main/3week_%EC%88%98%EC%97%85_1.ipynb\" target=\"_parent\"><img src=\"https://colab.research.google.com/assets/colab-badge.svg\" alt=\"Open In Colab\"/></a>"
      ]
    },
    {
      "cell_type": "code",
      "source": [
        "# cd /content/drive/MyDrive/Colab Notebooks/3 week"
      ],
      "metadata": {
        "colab": {
          "base_uri": "https://localhost:8080/"
        },
        "id": "nM0yVi7es9s2",
        "outputId": "adfee1c4-cc7f-455d-9a5b-fa82ce5f6d24"
      },
      "execution_count": null,
      "outputs": [
        {
          "output_type": "stream",
          "name": "stdout",
          "text": [
            "/content/drive/MyDrive/Colab Notebooks/3 week\n"
          ]
        }
      ]
    },
    {
      "cell_type": "code",
      "source": [
        "# 실습할 때 주로 사용할 라이브러리 불러오기 \n",
        "import math\n",
        "# import import_ipynb"
      ],
      "metadata": {
        "id": "HKzMsM9hh63V"
      },
      "execution_count": null,
      "outputs": []
    },
    {
      "cell_type": "code",
      "source": [
        "# ceilEx.py\n",
        "ceil_result=math.ceil(3.14)\n",
        "print(ceil_result)"
      ],
      "metadata": {
        "colab": {
          "base_uri": "https://localhost:8080/"
        },
        "id": "ULGWQ9ONtcv6",
        "outputId": "90ff0f2b-b70b-4334-c620-6a2a74c26d21"
      },
      "execution_count": null,
      "outputs": [
        {
          "output_type": "stream",
          "name": "stdout",
          "text": [
            "4\n"
          ]
        }
      ]
    },
    {
      "cell_type": "code",
      "source": [
        "# vari.py \n",
        "x = 5.14\n",
        "ceil_result = math.ceil(x)\n",
        "print(ceil_result)\n",
        "\n",
        "y = 8.25\n",
        "floor_result = math.floor(y)\n",
        "print(floor_result)\n",
        "\n",
        "print(x+y)\n",
        "print(x/y)\n",
        "print(ceil_result+floor_result)\n",
        "print(ceil_result*floor_result)\n",
        "print(ceil_result*floor_result)"
      ],
      "metadata": {
        "colab": {
          "base_uri": "https://localhost:8080/"
        },
        "id": "X_5B7K05tvqN",
        "outputId": "40e1883f-04c6-4844-e883-7e5e2dcdb02d"
      },
      "execution_count": null,
      "outputs": [
        {
          "output_type": "stream",
          "name": "stdout",
          "text": [
            "6\n",
            "8\n",
            "13.39\n",
            "0.623030303030303\n",
            "48\n",
            "14\n"
          ]
        }
      ]
    },
    {
      "cell_type": "code",
      "source": [
        "# type.py\n",
        "x = 123 # integer\n",
        "y = 123.10 # float\n",
        "z = \"one\" # string\n",
        "a = True # boolean\n",
        "\n",
        "print(x)\n",
        "print(y)\n",
        "print(z)\n",
        "print(a)\n",
        "\n",
        "# check each type\n",
        "print(type(x)) \n",
        "print(type(y))\n",
        "print(type(z))\n",
        "print(type(a))\n",
        "print(\"\\n\\n\")\n",
        "\n",
        "# string \n",
        "print(len(z)) # 길이\n",
        "u = z.upper() # 대문자\n",
        "print(u)\n",
        "l = u.lower() # 소문자\n",
        "print(l)\n",
        "lg = \"Hi there I`m Paul\"\n",
        "print(lg.find('I')) # 공백 포함임\n",
        "print(lg.replace(\"Hi\",\"Bye\"))\n",
        "sp_lg = lg.split()\n",
        "print(sp_lg)\n",
        "print(type(sp_lg)) # split로 분리하면 list형 반환\n",
        "blank = \" hi everyone \"\n",
        "print(blank.strip())\n",
        "print(f'-----{lg[3]}-----') # \n",
        "print(f'-----{lg[3:8]}-----')\n",
        "print(\"\\n\\n\")\n",
        "\n",
        "\n",
        "# list, tuple, dictionary, set \n",
        "ls = [1,2,3,5] # list\n",
        "tup = (1,2,3,4) # tuple\n",
        "dic = dict(일=1, 이=2, 삼=3)\n",
        "# print(dic)\n",
        "dic = {\"일\":1, \"이\":2, \"삼\":3} # dictionary \n",
        "se = set([3,5,'사',(5,6)])\n",
        "# print(se)\n",
        "se = {3,5,'사',(5,6)} # 다양한 값을 가질 수 있지만, 가변성이 있는 lis, dictionary 같은 값은 가질 수 없다.\n",
        "\n",
        "# check type\n",
        "print(type(ls))\n",
        "print(type(tup))\n",
        "print(type(dic))\n",
        "print(type(se))\n",
        "print(\"\\n\\n\")\n",
        "\n",
        "# list properties\n",
        "print(ls)\n",
        "ls.append(7) # 마지막에 원소 추가\n",
        "ls.insert(3,3) # insert(index, value)\n",
        "ls.extend([10,11,12]) # 추가할 리스트 마지막에 넣기\n",
        "print(ls)\n",
        "ls.remove(7)\n",
        "print(ls)\n",
        "print(ls*2)\n",
        "print(ls+ls)\n",
        "print(ls.index(3))\n",
        "print(len(ls))\n",
        "print(ls.count(3)) # count component in list\n",
        "print(5 in ls) # boolean\n",
        "print(1 not in ls) # boolean \n",
        "ls.reverse()\n",
        "print(ls)\n",
        "ls.sort()\n",
        "print(ls)\n",
        "print(\"\\n\\n\")\n",
        "\n",
        "# tuple properties\n",
        "print(tup)\n",
        "print(tup.index(3))\n",
        "print(1 not in tup)\n",
        "# print(tup.remove(2)) # tuple can`t change component\n",
        "print(\"\\n\\n\")\n",
        "\n",
        "# dictionary properties\n",
        "print(dic.keys()) # output key in dictionary\n",
        "print(dic.values()) # output value in dictionary\n",
        "\n",
        "\n",
        "\n",
        "# set properties\n",
        "s_2 = {'하이는','안녕'}\n",
        "se.update(s_2)\n",
        "print(se)\n",
        "se.remove('하이는')\n",
        "print(se)\n",
        "sc = s_2.copy()\n",
        "print(sc)"
      ],
      "metadata": {
        "colab": {
          "base_uri": "https://localhost:8080/"
        },
        "id": "7dR7896C6qJ4",
        "outputId": "af6667ee-1064-4ccd-802f-1a32707829ef"
      },
      "execution_count": 5,
      "outputs": [
        {
          "output_type": "stream",
          "name": "stdout",
          "text": [
            "123\n",
            "123.1\n",
            "one\n",
            "True\n",
            "<class 'int'>\n",
            "<class 'float'>\n",
            "<class 'str'>\n",
            "<class 'bool'>\n",
            "\n",
            "\n",
            "\n",
            "3\n",
            "ONE\n",
            "one\n",
            "9\n",
            "Bye there I`m Paul\n",
            "['Hi', 'there', 'I`m', 'Paul']\n",
            "<class 'list'>\n",
            "hi everyone\n",
            "-----t-----\n",
            "-----there-----\n",
            "\n",
            "\n",
            "\n",
            "<class 'list'>\n",
            "<class 'tuple'>\n",
            "<class 'dict'>\n",
            "<class 'set'>\n",
            "\n",
            "\n",
            "\n",
            "[1, 2, 3, 5]\n",
            "[1, 2, 3, 3, 5, 7, 10, 11, 12]\n",
            "[1, 2, 3, 3, 5, 10, 11, 12]\n",
            "[1, 2, 3, 3, 5, 10, 11, 12, 1, 2, 3, 3, 5, 10, 11, 12]\n",
            "[1, 2, 3, 3, 5, 10, 11, 12, 1, 2, 3, 3, 5, 10, 11, 12]\n",
            "2\n",
            "8\n",
            "2\n",
            "True\n",
            "False\n",
            "[12, 11, 10, 5, 3, 3, 2, 1]\n",
            "[1, 2, 3, 3, 5, 10, 11, 12]\n",
            "\n",
            "\n",
            "\n",
            "(1, 2, 3, 4)\n",
            "2\n",
            "False\n",
            "\n",
            "\n",
            "\n",
            "dict_keys(['일', '이', '삼'])\n",
            "dict_values([1, 2, 3])\n",
            "{3, 5, '하이는', (5, 6), '사', '안녕'}\n",
            "{3, 5, (5, 6), '사', '안녕'}\n",
            "{'하이는', '안녕'}\n"
          ]
        }
      ]
    },
    {
      "cell_type": "code",
      "source": [
        "# inout.py\n",
        "\n",
        "num1 = input(\"첫 번째 숫자를 입력하시오: \")\n",
        "num2 = input(\"두 번째 숫자를 입력하시오: \")\n",
        "\n",
        "\n",
        "print(f'첫 번째 숫자는 {num1}입니다')\n",
        "print(f'두 번째 숫자는 {num2}입니다')"
      ],
      "metadata": {
        "colab": {
          "base_uri": "https://localhost:8080/"
        },
        "id": "nSlJ2vwjdY57",
        "outputId": "1fcdae03-0fee-46fa-df30-e0c5da9a3ef7"
      },
      "execution_count": null,
      "outputs": [
        {
          "output_type": "stream",
          "name": "stdout",
          "text": [
            "첫 번째 숫자를 입력하시오: 4\n",
            "두 번째 숫자를 입력하시오: 8\n",
            "첫 번째 숫자는 4입니다\n",
            "두 번째 숫자는 8입니다\n"
          ]
        }
      ]
    },
    {
      "cell_type": "code",
      "source": [
        "# 특정 type으로 받고 싶을 때 \n",
        "num3 = int(input(\"정수를 입력하시오:\"))\n",
        "num4 = float(input(\"실수를 입력하시오:\"))\n",
        "st = str(input(\"문자열을 입력하시오: \"))\n",
        "\n",
        "print(f'정수 {num3}를 실수로 {float(num3)}')\n",
        "print(f'실수 {num4}를 정수로 {int(num4)}')"
      ],
      "metadata": {
        "colab": {
          "base_uri": "https://localhost:8080/"
        },
        "id": "qlRS0-twEMXD",
        "outputId": "ae480862-9106-4b78-eb63-8abc215b4c95"
      },
      "execution_count": null,
      "outputs": [
        {
          "output_type": "stream",
          "name": "stdout",
          "text": [
            "정수를 입력하시오:6\n",
            "실수를 입력하시오:5.66\n",
            "문자열을 입력하시오: ㅗㅑ\n",
            "정수 6를 실수로 6.0\n",
            "실수 5.66를 정수로 5\n"
          ]
        }
      ]
    }
  ]
}