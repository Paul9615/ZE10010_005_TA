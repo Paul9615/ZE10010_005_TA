{
  "nbformat": 4,
  "nbformat_minor": 0,
  "metadata": {
    "colab": {
      "name": "3week_수업.ipynb",
      "provenance": [],
      "collapsed_sections": [],
      "mount_file_id": "1o_iPp1fVcESbfnXIYwxoCqp1-ULeqosy",
      "authorship_tag": "ABX9TyNAMBmmYR/br9gKFIUCGboe",
      "include_colab_link": true
    },
    "kernelspec": {
      "name": "python3",
      "display_name": "Python 3"
    },
    "language_info": {
      "name": "python"
    }
  },
  "cells": [
    {
      "cell_type": "markdown",
      "metadata": {
        "id": "view-in-github",
        "colab_type": "text"
      },
      "source": [
        "<a href=\"https://colab.research.google.com/github/Ant9615/ZE10010_005_TA/blob/main/3week_%EC%88%98%EC%97%85.ipynb\" target=\"_parent\"><img src=\"https://colab.research.google.com/assets/colab-badge.svg\" alt=\"Open In Colab\"/></a>"
      ]
    },
    {
      "cell_type": "code",
      "source": [
        "# cd /content/drive/MyDrive/Colab Notebooks/3 week"
      ],
      "metadata": {
        "colab": {
          "base_uri": "https://localhost:8080/"
        },
        "id": "nM0yVi7es9s2",
        "outputId": "adfee1c4-cc7f-455d-9a5b-fa82ce5f6d24"
      },
      "execution_count": null,
      "outputs": [
        {
          "output_type": "stream",
          "name": "stdout",
          "text": [
            "/content/drive/MyDrive/Colab Notebooks/3 week\n"
          ]
        }
      ]
    },
    {
      "cell_type": "code",
      "source": [
        "# 실습할 때 주로 사용할 라이브러리 불러오기 \n",
        "import math\n",
        "# import import_ipynb"
      ],
      "metadata": {
        "id": "HKzMsM9hh63V"
      },
      "execution_count": null,
      "outputs": []
    },
    {
      "cell_type": "code",
      "source": [
        "# ceilEx.py\n",
        "ceil_result=math.ceil(3.14)\n",
        "print(ceil_result)"
      ],
      "metadata": {
        "colab": {
          "base_uri": "https://localhost:8080/"
        },
        "id": "ULGWQ9ONtcv6",
        "outputId": "90ff0f2b-b70b-4334-c620-6a2a74c26d21"
      },
      "execution_count": null,
      "outputs": [
        {
          "output_type": "stream",
          "name": "stdout",
          "text": [
            "4\n"
          ]
        }
      ]
    },
    {
      "cell_type": "code",
      "source": [
        "# inout.py\n",
        "\n",
        "num1 = input(\"첫 번째 숫자를 입력하시오: \")\n",
        "num2 = input(\"두 번째 숫자를 입력하시오: \")\n",
        "\n",
        "\n",
        "print(f'첫 번째 숫자는 {num1}입니다')\n",
        "print(f'두 번째 숫자는 {num2}입니다')"
      ],
      "metadata": {
        "id": "kJuMmVi0TEMg"
      },
      "execution_count": null,
      "outputs": []
    },
    {
      "cell_type": "code",
      "source": [
        "# 특정 type으로 받고 싶을 때 \n",
        "num3 = int(input(\"정수를 입력하시오:\"))\n",
        "num4 = float(input(\"실수를 입력하시오:\"))\n",
        "st = str(input(\"문자열을 입력하시오: \"))\n",
        "\n",
        "print(f'정수 {num3}를 실수로 {float(num3)}')\n",
        "print(f'실수 {num4}를 정수로 {int(num4)}')"
      ],
      "metadata": {
        "colab": {
          "base_uri": "https://localhost:8080/"
        },
        "id": "qlRS0-twEMXD",
        "outputId": "ae480862-9106-4b78-eb63-8abc215b4c95"
      },
      "execution_count": null,
      "outputs": [
        {
          "output_type": "stream",
          "name": "stdout",
          "text": [
            "정수를 입력하시오:6\n",
            "실수를 입력하시오:5.66\n",
            "문자열을 입력하시오: ㅗㅑ\n",
            "정수 6를 실수로 6.0\n",
            "실수 5.66를 정수로 5\n"
          ]
        }
      ]
    },
    {
      "cell_type": "code",
      "source": [
        "# 사칙연산 \n",
        "x = int(input())\n",
        "y = int(input())\n",
        "\n",
        "print(x+y)\n",
        "print(x/y)\n",
        "print(x%y)"
      ],
      "metadata": {
        "id": "71WTXFISTGTw"
      },
      "execution_count": null,
      "outputs": []
    },
    {
      "cell_type": "code",
      "source": [
        "num = int(input())\n",
        "soju = int(input())\n",
        "beer = int(input())\n",
        "chicken = int(input())\n",
        "water = int(input())\n",
        "shake = int(input())\n",
        "\n",
        "\n",
        "so = soju*3000\n",
        "be = beer*3000\n",
        "ch = chicken*12000\n",
        "wa = water*4000\n",
        "sh = shake*4000\n",
        "\n",
        "total = so+be+ch+wa+sh\n",
        "div = total/num\n",
        "\n",
        "print(f'{int(div)}원')"
      ],
      "metadata": {
        "id": "l33lQG6YTRxR"
      },
      "execution_count": null,
      "outputs": []
    }
  ]
}