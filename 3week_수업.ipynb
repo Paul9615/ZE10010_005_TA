{
  "nbformat": 4,
  "nbformat_minor": 0,
  "metadata": {
    "colab": {
      "name": "3week_수업.ipynb",
      "provenance": [],
      "collapsed_sections": [],
      "mount_file_id": "1o_iPp1fVcESbfnXIYwxoCqp1-ULeqosy",
      "authorship_tag": "ABX9TyO1gaN/cUMxtnHlJRoNFdit",
      "include_colab_link": true
    },
    "kernelspec": {
      "name": "python3",
      "display_name": "Python 3"
    },
    "language_info": {
      "name": "python"
    }
  },
  "cells": [
    {
      "cell_type": "markdown",
      "metadata": {
        "id": "view-in-github",
        "colab_type": "text"
      },
      "source": [
        "<a href=\"https://colab.research.google.com/github/Ant9615/ZE10010_005_TA/blob/main/3week_%EC%88%98%EC%97%85.ipynb\" target=\"_parent\"><img src=\"https://colab.research.google.com/assets/colab-badge.svg\" alt=\"Open In Colab\"/></a>"
      ]
    },
    {
      "cell_type": "code",
      "source": [
        "# cd /content/drive/MyDrive/Colab Notebooks/3 week"
      ],
      "metadata": {
        "colab": {
          "base_uri": "https://localhost:8080/"
        },
        "id": "nM0yVi7es9s2",
        "outputId": "adfee1c4-cc7f-455d-9a5b-fa82ce5f6d24"
      },
      "execution_count": null,
      "outputs": [
        {
          "output_type": "stream",
          "name": "stdout",
          "text": [
            "/content/drive/MyDrive/Colab Notebooks/3 week\n"
          ]
        }
      ]
    },
    {
      "cell_type": "code",
      "source": [
        "num = 13\n",
        "\n",
        "type(Number)"
      ],
      "metadata": {
        "colab": {
          "base_uri": "https://localhost:8080/"
        },
        "id": "4IaIeCWehJAF",
        "outputId": "0b5c81a1-17a2-41ab-f018-8c78920cbd32"
      },
      "execution_count": 6,
      "outputs": [
        {
          "output_type": "execute_result",
          "data": {
            "text/plain": [
              "int"
            ]
          },
          "metadata": {},
          "execution_count": 6
        }
      ]
    },
    {
      "cell_type": "code",
      "source": [
        "string = 'Python'\n",
        "type(string)"
      ],
      "metadata": {
        "colab": {
          "base_uri": "https://localhost:8080/"
        },
        "id": "tWmwFLXEhOWx",
        "outputId": "35663d27-9745-4c57-8769-871c490e1fea"
      },
      "execution_count": 11,
      "outputs": [
        {
          "output_type": "execute_result",
          "data": {
            "text/plain": [
              "str"
            ]
          },
          "metadata": {},
          "execution_count": 11
        }
      ]
    },
    {
      "cell_type": "code",
      "source": [
        "c = True \n",
        "type(c)"
      ],
      "metadata": {
        "colab": {
          "base_uri": "https://localhost:8080/"
        },
        "id": "20wLs934hYc1",
        "outputId": "6be5a128-659f-4401-cd7a-ea86918a758b"
      },
      "execution_count": 10,
      "outputs": [
        {
          "output_type": "execute_result",
          "data": {
            "text/plain": [
              "bool"
            ]
          },
          "metadata": {},
          "execution_count": 10
        }
      ]
    },
    {
      "cell_type": "code",
      "source": [
        "# 실습할 때 주로 사용할 라이브러리 불러오기 \n",
        "import math\n",
        "# import import_ipynb"
      ],
      "metadata": {
        "id": "HKzMsM9hh63V"
      },
      "execution_count": null,
      "outputs": []
    },
    {
      "cell_type": "code",
      "source": [
        "# ceilEx.py\n",
        "ceil_result=math.ceil(3.14)\n",
        "print(ceil_result)"
      ],
      "metadata": {
        "colab": {
          "base_uri": "https://localhost:8080/"
        },
        "id": "ULGWQ9ONtcv6",
        "outputId": "90ff0f2b-b70b-4334-c620-6a2a74c26d21"
      },
      "execution_count": null,
      "outputs": [
        {
          "output_type": "stream",
          "name": "stdout",
          "text": [
            "4\n"
          ]
        }
      ]
    },
    {
      "cell_type": "code",
      "source": [
        "# inout.py\n",
        "\n",
        "num1 = int(input(\"첫 번째 숫자를 입력하시오: \"))\n",
        "num2 = int(input(\"두 번째 숫자를 입력하시오: \"))\n",
        "\n",
        "\n",
        "print(f'첫 번째 숫자는 {num1}입니다')\n",
        "print(f'두 번째 숫자는 {num2}입니다')"
      ],
      "metadata": {
        "colab": {
          "base_uri": "https://localhost:8080/"
        },
        "id": "kJuMmVi0TEMg",
        "outputId": "cbdf3f54-d4d5-4be6-e8ce-23b19ce3e911"
      },
      "execution_count": 2,
      "outputs": [
        {
          "output_type": "stream",
          "name": "stdout",
          "text": [
            "첫 번째 숫자를 입력하시오: 5\n",
            "두 번째 숫자를 입력하시오: 7\n",
            "첫 번째 숫자는 5입니다\n",
            "두 번째 숫자는 7입니다\n"
          ]
        }
      ]
    },
    {
      "cell_type": "code",
      "source": [
        "# 특정 type으로 받고 싶을 때 \n",
        "num3 = int(input(\"정수를 입력하시오:\"))\n",
        "num4 = float(input(\"실수를 입력하시오:\"))\n",
        "\n",
        "print(f'정수 {num3}를 실수로 {float(num3)}')\n",
        "print(f'실수 {num4}를 정수로 {int(num4)}')"
      ],
      "metadata": {
        "colab": {
          "base_uri": "https://localhost:8080/"
        },
        "id": "qlRS0-twEMXD",
        "outputId": "05af03fd-a925-4432-f904-268e8d156631"
      },
      "execution_count": 4,
      "outputs": [
        {
          "output_type": "stream",
          "name": "stdout",
          "text": [
            "정수를 입력하시오:5\n",
            "실수를 입력하시오:6.9\n",
            "정수 5를 실수로 5.0\n",
            "실수 6.9를 정수로 6\n"
          ]
        }
      ]
    },
    {
      "cell_type": "code",
      "source": [
        "# "
      ],
      "metadata": {
        "id": "R9tz_YFogjwm"
      },
      "execution_count": null,
      "outputs": []
    },
    {
      "cell_type": "code",
      "source": [
        ""
      ],
      "metadata": {
        "id": "XDSfVBqgh1eI"
      },
      "execution_count": null,
      "outputs": []
    },
    {
      "cell_type": "code",
      "source": [
        ""
      ],
      "metadata": {
        "id": "XGvnI9LFh2Fg"
      },
      "execution_count": null,
      "outputs": []
    },
    {
      "cell_type": "code",
      "source": [
        ""
      ],
      "metadata": {
        "id": "cQJ3fY6Mh2zo"
      },
      "execution_count": null,
      "outputs": []
    },
    {
      "cell_type": "code",
      "source": [
        "# 사칙연산 \n",
        "x = int(input())\n",
        "y = int(input())\n",
        "\n",
        "print(x+y)\n",
        "print(x/y)\n",
        "print(x%y)"
      ],
      "metadata": {
        "colab": {
          "base_uri": "https://localhost:8080/"
        },
        "id": "71WTXFISTGTw",
        "outputId": "c309f133-4745-4628-a649-647c90f0452f"
      },
      "execution_count": 5,
      "outputs": [
        {
          "output_type": "stream",
          "name": "stdout",
          "text": [
            "5\n",
            "6\n",
            "11\n",
            "0.8333333333333334\n",
            "5\n"
          ]
        }
      ]
    },
    {
      "cell_type": "code",
      "source": [
        "num = int(input())\n",
        "soju = int(input())\n",
        "beer = int(input())\n",
        "chicken = int(input())\n",
        "water = int(input())\n",
        "shake = int(input())\n",
        "\n",
        "\n",
        "so = soju*3000\n",
        "be = beer*3000\n",
        "ch = chicken*12000\n",
        "wa = water*4000\n",
        "sh = shake*4000\n",
        "\n",
        "total = so+be+ch+wa+sh\n",
        "div = total/num\n",
        "\n",
        "print(f'{int(div)}원')"
      ],
      "metadata": {
        "id": "l33lQG6YTRxR"
      },
      "execution_count": null,
      "outputs": []
    }
  ]
}