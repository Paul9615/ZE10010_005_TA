{
  "nbformat": 4,
  "nbformat_minor": 0,
  "metadata": {
    "colab": {
      "name": "7WEEK_수업.ipynb",
      "provenance": [],
      "collapsed_sections": [],
      "authorship_tag": "ABX9TyODCqCGs5wYTBBn++TAerKh",
      "include_colab_link": true
    },
    "kernelspec": {
      "name": "python3",
      "display_name": "Python 3"
    },
    "language_info": {
      "name": "python"
    }
  },
  "cells": [
    {
      "cell_type": "markdown",
      "metadata": {
        "id": "view-in-github",
        "colab_type": "text"
      },
      "source": [
        "<a href=\"https://colab.research.google.com/github/Ant9615/ZE10010_005_TA/blob/main/7WEEK_%EC%88%98%EC%97%85.ipynb\" target=\"_parent\"><img src=\"https://colab.research.google.com/assets/colab-badge.svg\" alt=\"Open In Colab\"/></a>"
      ]
    },
    {
      "cell_type": "code",
      "execution_count": null,
      "metadata": {
        "id": "96q7zwhOgFdb"
      },
      "outputs": [],
      "source": [
        "# 010 \n",
        "# 유클리드 호제법 이용\n",
        "# https://dimenchoi.tistory.com/46 \n",
        "\n",
        "T = int(input())\n",
        "\n",
        "def gcd_for(a,b) : # 최대공약수\n",
        "    while b > 0 :\n",
        "        tmp = a%b\n",
        "        a = b\n",
        "        b = tmp\n",
        "    return a\n",
        "\n",
        "def gcd_r(a,b) :\n",
        "    if b == 0 :\n",
        "        return a\n",
        "    else :\n",
        "        return gcd_r(b,a%b)\n",
        "\n",
        "def lcm(a,b) : # 최소공배수\n",
        "    return a*b//gcd_r(a,b)\n",
        "\n",
        "for _ in range(T) :\n",
        "    a, b = map(int,input().split())\n",
        "    print(lcm(a,b),gcd_r(a,b))"
      ]
    },
    {
      "cell_type": "code",
      "source": [
        "# 011 \n",
        "\n",
        "import math\n",
        "\n",
        "cu = list(input().split(':'))\n",
        "th = list(input().split(':'))\n",
        "\n",
        "def diff(cu, th):\n",
        "    n = 0\n",
        "    m = 0 \n",
        "\n",
        "    n += int(cu[0]) * 3600\n",
        "    n += int(cu[1]) * 60\n",
        "    n += int(cu[2])\n",
        "\n",
        "    m += int(th[0]) * 3600\n",
        "    m += int(th[1]) * 60\n",
        "    m += int(th[2])\n",
        "    m += 3600*24\n",
        "\n",
        "    ans = m-n\n",
        "    ans = math.fmod(ans, 3600 * 24)\n",
        "    if ans == 0:\n",
        "        ans = 3600 * 24 \n",
        "    H = math.trunc(ans / float(3600))\n",
        "    M = math.trunc(math.fmod(ans, 3600)/float(60))\n",
        "    S = math.trunc(math.fmod(ans, 60))\n",
        "\n",
        "    return H,M,S\n",
        "\n",
        "cal = diff(cu, th)\n",
        "\n",
        "print(\"{0:02d}:{1:02d}:{2:02d}\".format(cal[0], cal[1], cal[2]))"
      ],
      "metadata": {
        "id": "YIlBGutUhEfZ"
      },
      "execution_count": null,
      "outputs": []
    },
    {
      "cell_type": "code",
      "source": [
        "# 012 \n",
        "\n",
        "max_num = 0\n",
        "\n",
        "for i in range(9):\n",
        "    row = list(map(int, input().split())) #굳이 행렬을 저장할 필요는 없다\n",
        "    if max(row) > max_num:\n",
        "        max_num = max(row) #최댓값\n",
        "        x = i + 1 #행\n",
        "        y = row.index(max_num) + 1 #열\n",
        "print(max_num)\n",
        "print(x,y)"
      ],
      "metadata": {
        "id": "LazirF6ghIB5"
      },
      "execution_count": null,
      "outputs": []
    }
  ]
}